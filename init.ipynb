{
  "nbformat": 4,
  "nbformat_minor": 0,
  "metadata": {
    "colab": {
      "provenance": [],
      "authorship_tag": "ABX9TyMuRP+Wf/+/J5wCg/FuQFhT",
      "include_colab_link": true
    },
    "kernelspec": {
      "name": "python3",
      "display_name": "Python 3"
    },
    "language_info": {
      "name": "python"
    }
  },
  "cells": [
    {
      "cell_type": "markdown",
      "metadata": {
        "id": "view-in-github",
        "colab_type": "text"
      },
      "source": [
        "<a href=\"https://colab.research.google.com/github/Abd-Bin/GoogleColab/blob/main/init.ipynb\" target=\"_parent\"><img src=\"https://colab.research.google.com/assets/colab-badge.svg\" alt=\"Open In Colab\"/></a>"
      ]
    },
    {
      "cell_type": "code",
      "execution_count": null,
      "metadata": {
        "colab": {
          "base_uri": "https://localhost:8080/"
        },
        "id": "23EMEdRIS8lU",
        "outputId": "dd8cebc4-88a3-4bb1-847e-9cb41d4fedc2"
      },
      "outputs": [
        {
          "output_type": "stream",
          "name": "stdout",
          "text": [
            "Cloning into 'hw2vec'...\n",
            "remote: Enumerating objects: 5682, done.\u001b[K\n",
            "remote: Counting objects: 100% (760/760), done.\u001b[K\n",
            "remote: Compressing objects: 100% (256/256), done.\u001b[K\n",
            "remote: Total 5682 (delta 393), reused 747 (delta 384), pack-reused 4922\u001b[K\n",
            "Receiving objects: 100% (5682/5682), 144.97 MiB | 30.24 MiB/s, done.\n",
            "Resolving deltas: 100% (3651/3651), done.\n"
          ]
        }
      ],
      "source": [
        "!git clone https://github.com/NMSU-PEARL/hw2vec.git"
      ]
    },
    {
      "cell_type": "markdown",
      "source": [],
      "metadata": {
        "id": "yZc7QklnTlst"
      }
    },
    {
      "cell_type": "code",
      "source": [
        "!pip install -q condacolab\n",
        "import condacolab\n",
        "condacolab.install()"
      ],
      "metadata": {
        "colab": {
          "base_uri": "https://localhost:8080/"
        },
        "id": "ImBe_4FdTxZS",
        "outputId": "3a38190e-4c19-41da-a62e-122fb1c67776"
      },
      "execution_count": null,
      "outputs": [
        {
          "output_type": "stream",
          "name": "stdout",
          "text": [
            "⏬ Downloading https://github.com/conda-forge/miniforge/releases/download/23.1.0-1/Mambaforge-23.1.0-1-Linux-x86_64.sh...\n",
            "📦 Installing...\n",
            "📌 Adjusting configuration...\n",
            "🩹 Patching environment...\n",
            "⏲ Done in 0:00:16\n",
            "🔁 Restarting kernel...\n"
          ]
        }
      ]
    },
    {
      "cell_type": "code",
      "source": [
        "!conda create --name hw2vec python=3.6\n",
        "!conda activate hw2vec\n",
        "\n",
        "# Install pytorch and cuda toolkit (Make sure you have cuda 10.1 installed on your machine)\n",
        "!conda install pytorch==1.6.0 torchvision==0.7.0 cudatoolkit=10.1 -c pytorch\n",
        "\n",
        "# Install scipy:\n",
        "!conda install -c anaconda scipy=1.4.1"
      ],
      "metadata": {
        "colab": {
          "base_uri": "https://localhost:8080/"
        },
        "id": "lMe032abTPZS",
        "outputId": "efff05ef-6c24-43d7-8a92-a14fc6a4aed6"
      },
      "execution_count": null,
      "outputs": [
        {
          "output_type": "stream",
          "name": "stdout",
          "text": [
            "/bin/bash: line 1: conda: command not found\n",
            "/bin/bash: line 1: conda: command not found\n",
            "/bin/bash: line 1: conda: command not found\n",
            "/bin/bash: line 1: conda: command not found\n"
          ]
        }
      ]
    },
    {
      "cell_type": "code",
      "source": [],
      "metadata": {
        "id": "BvVWEdYjTkfY"
      },
      "execution_count": null,
      "outputs": []
    }
  ]
}